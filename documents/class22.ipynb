{
 "cells": [
  {
   "cell_type": "code",
   "execution_count": 12,
   "id": "0840ab70-bb31-4a23-bf4f-d3c1e88fbbe1",
   "metadata": {},
   "outputs": [],
   "source": [
    "import numpy as np\n",
    "\n",
    "a = np.random.randn(5)"
   ]
  },
  {
   "cell_type": "code",
   "execution_count": 31,
   "id": "997e7ee8-154f-48ab-8dcf-99c92c5a909f",
   "metadata": {},
   "outputs": [
    {
     "name": "stdout",
     "output_type": "stream",
     "text": [
      "[ 0.77222271 -0.21586847 -0.24033548  0.32021674  1.16532263]\n"
     ]
    }
   ],
   "source": [
    "print(a)"
   ]
  },
  {
   "cell_type": "code",
   "execution_count": 33,
   "id": "e0f6aebd-e0ae-4345-b46b-7e168fe5a1b9",
   "metadata": {},
   "outputs": [
    {
     "name": "stdout",
     "output_type": "stream",
     "text": [
      "(5,)\n"
     ]
    }
   ],
   "source": [
    "print(a.shape)"
   ]
  },
  {
   "cell_type": "code",
   "execution_count": 36,
   "id": "ba590296-0cec-43da-aa0f-03d117eee7bc",
   "metadata": {},
   "outputs": [
    {
     "name": "stdout",
     "output_type": "stream",
     "text": [
      "[ 0.77222271 -0.21586847 -0.24033548  0.32021674  1.16532263]\n"
     ]
    }
   ],
   "source": [
    "print(a.T)"
   ]
  },
  {
   "cell_type": "code",
   "execution_count": 40,
   "id": "66b22fc6-4f24-49c5-b9ac-711badb9c509",
   "metadata": {},
   "outputs": [
    {
     "name": "stdout",
     "output_type": "stream",
     "text": [
      "2.16120383075741\n"
     ]
    }
   ],
   "source": [
    "print(np.dot(a, a.T))"
   ]
  },
  {
   "cell_type": "code",
   "execution_count": 44,
   "id": "3b75387a-a692-48e9-95a3-f4dc532cb333",
   "metadata": {},
   "outputs": [
    {
     "name": "stdout",
     "output_type": "stream",
     "text": [
      "[[-0.09479524]\n",
      " [ 0.82277289]\n",
      " [ 1.45512251]\n",
      " [ 0.83389012]\n",
      " [ 1.53586965]]\n"
     ]
    }
   ],
   "source": [
    "a = np.random.randn(5,1)\n",
    "print(a)"
   ]
  },
  {
   "cell_type": "code",
   "execution_count": 46,
   "id": "4db7c045-8665-49fb-8902-993b210d9485",
   "metadata": {},
   "outputs": [
    {
     "name": "stdout",
     "output_type": "stream",
     "text": [
      "[[-0.09479524  0.82277289  1.45512251  0.83389012  1.53586965]]\n"
     ]
    }
   ],
   "source": [
    "print(a.T)"
   ]
  },
  {
   "cell_type": "code",
   "execution_count": 51,
   "id": "26bc9e6d-ee85-46c2-9287-182e4e3605af",
   "metadata": {},
   "outputs": [
    {
     "name": "stdout",
     "output_type": "stream",
     "text": [
      "[[ 0.00898614 -0.07799495 -0.13793868 -0.07904881 -0.14559313]\n",
      " [-0.07799495  0.67695524  1.19723536  0.68610219  1.26367192]\n",
      " [-0.13793868  1.19723536  2.11738151  1.21341228  2.23487849]\n",
      " [-0.07904881  0.68610219  1.21341228  0.69537273  1.28074653]\n",
      " [-0.14559313  1.26367192  2.23487849  1.28074653  2.35889558]]\n"
     ]
    }
   ],
   "source": [
    "print(np.dot(a,a.T))"
   ]
  },
  {
   "cell_type": "code",
   "execution_count": 52,
   "id": "03cba8c5-ddb7-4f89-979e-b3981f50073b",
   "metadata": {},
   "outputs": [
    {
     "name": "stdout",
     "output_type": "stream",
     "text": [
      "[[5.85759119]]\n"
     ]
    }
   ],
   "source": [
    "print(np.dot(a.T,a))"
   ]
  },
  {
   "cell_type": "code",
   "execution_count": null,
   "id": "4fb57ca2-2bdf-41c2-93c5-d71cf25acd88",
   "metadata": {},
   "outputs": [],
   "source": []
  }
 ],
 "metadata": {
  "kernelspec": {
   "display_name": "Python 3 (ipykernel)",
   "language": "python",
   "name": "python3"
  },
  "language_info": {
   "codemirror_mode": {
    "name": "ipython",
    "version": 3
   },
   "file_extension": ".py",
   "mimetype": "text/x-python",
   "name": "python",
   "nbconvert_exporter": "python",
   "pygments_lexer": "ipython3",
   "version": "3.12.4"
  }
 },
 "nbformat": 4,
 "nbformat_minor": 5
}
