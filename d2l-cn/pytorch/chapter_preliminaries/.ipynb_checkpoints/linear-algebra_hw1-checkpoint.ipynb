{
 "cells": [
  {
   "cell_type": "code",
   "execution_count": 9,
   "id": "681c1bd0-f624-4b04-85b9-825dec703930",
   "metadata": {},
   "outputs": [
    {
     "name": "stdout",
     "output_type": "stream",
     "text": [
      "tensor([[True, True, True, True],\n",
      "        [True, True, True, True],\n",
      "        [True, True, True, True],\n",
      "        [True, True, True, True],\n",
      "        [True, True, True, True]])\n",
      "tensor([[ 0,  2,  4,  6],\n",
      "        [ 8, 10, 12, 14],\n",
      "        [16, 18, 20, 22],\n",
      "        [24, 26, 28, 30],\n",
      "        [32, 34, 36, 38]])\n"
     ]
    }
   ],
   "source": [
    "import torch \n",
    "# Q1 \n",
    "A = torch.arange(20).reshape(5, 4) \n",
    "B = A.T \n",
    "B = B.T \n",
    "print(A == B) \n",
    "print(A + B) "
   ]
  },
  {
   "cell_type": "code",
   "execution_count": 16,
   "id": "528f8dd8-3c6b-40fc-a172-679de4dce8f4",
   "metadata": {},
   "outputs": [
    {
     "name": "stdout",
     "output_type": "stream",
     "text": [
      "tensor([[True, True, True, True, True],\n",
      "        [True, True, True, True, True],\n",
      "        [True, True, True, True, True],\n",
      "        [True, True, True, True, True]])\n",
      "tensor([[ 0,  8, 16, 24, 32],\n",
      "        [ 2, 10, 18, 26, 34],\n",
      "        [ 4, 12, 20, 28, 36],\n",
      "        [ 6, 14, 22, 30, 38]])\n",
      "tensor([[ 0,  8, 16, 24, 32],\n",
      "        [ 2, 10, 18, 26, 34],\n",
      "        [ 4, 12, 20, 28, 36],\n",
      "        [ 6, 14, 22, 30, 38]])\n"
     ]
    }
   ],
   "source": [
    "# Q2  \n",
    "A = torch.arange(20).reshape(5, 4)\n",
    "B = torch.arange(20).reshape(5, 4)\n",
    "A_T = A.T\n",
    "B_T = B.T\n",
    "A_B_T = (A + B).T\n",
    "print((A_T + B_T) == A_B_T)\n",
    "print(A_T + B_T)\n",
    "print(A_B_T)"
   ]
  },
  {
   "cell_type": "code",
   "execution_count": null,
   "id": "d2b13d9d-8ec3-4d66-898f-58f1e79715f0",
   "metadata": {},
   "outputs": [],
   "source": []
  }
 ],
 "metadata": {
  "kernelspec": {
   "display_name": "Python 3 (ipykernel)",
   "language": "python",
   "name": "python3"
  },
  "language_info": {
   "codemirror_mode": {
    "name": "ipython",
    "version": 3
   },
   "file_extension": ".py",
   "mimetype": "text/x-python",
   "name": "python",
   "nbconvert_exporter": "python",
   "pygments_lexer": "ipython3",
   "version": "3.9.13"
  }
 },
 "nbformat": 4,
 "nbformat_minor": 5
}
