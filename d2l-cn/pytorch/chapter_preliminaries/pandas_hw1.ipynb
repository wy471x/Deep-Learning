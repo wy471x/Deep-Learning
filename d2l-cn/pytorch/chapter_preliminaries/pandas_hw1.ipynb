{
 "cells": [
  {
   "cell_type": "code",
   "execution_count": 1,
   "id": "fa6454eb-aa0d-43d3-9694-4a3df9f5f71d",
   "metadata": {},
   "outputs": [],
   "source": [
    "import os\n",
    "\n",
    "os.makedirs(os.path.join('..', 'data'), exist_ok=True)\n",
    "data_file = os.path.join('..', 'data', 'pandas_hw1.csv')\n",
    "with open(data_file, 'w') as f:\n",
    "    f.write('''NumRooms,RoofType,Price\n",
    "NA,NA,127500\n",
    "2,NA,106000\n",
    "4,Slate,178100\n",
    "NA,NA,140000''')"
   ]
  },
  {
   "cell_type": "code",
   "execution_count": 2,
   "id": "a26cf457-4587-4c48-b3df-5d7423ae8df2",
   "metadata": {},
   "outputs": [
    {
     "name": "stdout",
     "output_type": "stream",
     "text": [
      "   NumRooms RoofType   Price\n",
      "0       NaN      NaN  127500\n",
      "1       2.0      NaN  106000\n",
      "2       4.0    Slate  178100\n",
      "3       NaN      NaN  140000\n"
     ]
    }
   ],
   "source": [
    "import pandas as pd\n",
    "\n",
    "data = pd.read_csv(data_file)\n",
    "print(data)"
   ]
  },
  {
   "cell_type": "code",
   "execution_count": 3,
   "id": "0d31e25a-e646-4da2-a965-951a9f5713f6",
   "metadata": {},
   "outputs": [
    {
     "name": "stdout",
     "output_type": "stream",
     "text": [
      "   NumRooms   Price\n",
      "0       NaN  127500\n",
      "1       2.0  106000\n",
      "2       4.0  178100\n",
      "3       NaN  140000\n",
      "   NumRooms   Price\n",
      "0       3.0  127500\n",
      "1       2.0  106000\n",
      "2       4.0  178100\n",
      "3       3.0  140000\n",
      "tensor([[3.0000e+00, 1.2750e+05],\n",
      "        [2.0000e+00, 1.0600e+05],\n",
      "        [4.0000e+00, 1.7810e+05],\n",
      "        [3.0000e+00, 1.4000e+05]], dtype=torch.float64)\n"
     ]
    }
   ],
   "source": [
    "import torch\n",
    "s = data.isna().sum(axis=0)\n",
    "out = data.loc[:, s.ne(s.max()) | s.eq(0)]\n",
    "print(out)\n",
    "inputs, outputs = out.iloc[:, 0:2], out.iloc[:, 1]\n",
    "inputs = inputs.fillna(inputs.mean())\n",
    "out = pd.get_dummies(inputs, dummy_na=True)\n",
    "print(out)\n",
    "X = torch.tensor(out.to_numpy(dtype=float))\n",
    "print(X)"
   ]
  },
  {
   "cell_type": "code",
   "execution_count": 4,
   "id": "298d0cb2-cf29-407d-ae5c-8391b7bbf5db",
   "metadata": {},
   "outputs": [
    {
     "name": "stdout",
     "output_type": "stream",
     "text": [
      "   NumRooms RoofType   Price\n",
      "1       2.0      NaN  106000\n",
      "2       4.0    Slate  178100\n",
      "   NumRooms  RoofType_Slate  RoofType_nan\n",
      "1       2.0           False          True\n",
      "2       4.0            True         False\n",
      "tensor([[2., 0., 1.],\n",
      "        [4., 1., 0.]], dtype=torch.float64)\n"
     ]
    }
   ],
   "source": [
    "s = data.isna().sum(axis=1)\n",
    "out = data[s.ne(s.max()) | s.eq(0)]\n",
    "print(out)\n",
    "inputs, outputs = out.iloc[:, 0:2], out.iloc[:, 2]\n",
    "out = pd.get_dummies(inputs, dummy_na=True)\n",
    "print(out)\n",
    "X = torch.tensor(out.to_numpy(dtype=float))\n",
    "print(X)"
   ]
  },
  {
   "cell_type": "code",
   "execution_count": null,
   "id": "19caf0f2-afb6-428b-b59d-1d48382f8242",
   "metadata": {},
   "outputs": [],
   "source": []
  }
 ],
 "metadata": {
  "kernelspec": {
   "display_name": "Python 3 (ipykernel)",
   "language": "python",
   "name": "python3"
  },
  "language_info": {
   "codemirror_mode": {
    "name": "ipython",
    "version": 3
   },
   "file_extension": ".py",
   "mimetype": "text/x-python",
   "name": "python",
   "nbconvert_exporter": "python",
   "pygments_lexer": "ipython3",
   "version": "3.9.13"
  }
 },
 "nbformat": 4,
 "nbformat_minor": 5
}
